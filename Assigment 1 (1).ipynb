{
 "cells": [
  {
   "cell_type": "code",
   "execution_count": 44,
   "metadata": {},
   "outputs": [],
   "source": [
    "import csv\n",
    "import itertools"
   ]
  },
  {
   "cell_type": "code",
   "execution_count": 45,
   "metadata": {},
   "outputs": [],
   "source": [
    "DataFile = open('retail_dataset.csv', 'r')"
   ]
  },
  {
   "cell_type": "code",
   "execution_count": 46,
   "metadata": {},
   "outputs": [],
   "source": [
    "minsup = 0.15\n",
    "minconf = 0.5"
   ]
  },
  {
   "cell_type": "code",
   "execution_count": 47,
   "metadata": {},
   "outputs": [],
   "source": [
    "def List1():\n",
    "    DataCaptured = csv.reader(DataFile, delimiter=',')\n",
    "    data = list(DataCaptured)\n",
    "    count = {}\n",
    "    for items in data:\n",
    "        for item in items:\n",
    "            if item not in count:\n",
    "                count[(item)] = 1\n",
    "            else:\n",
    "                count[(item)] = count[(item)] + 1\n",
    "    #print(\"C1 Items\", count)\n",
    "    #print(\"C1 Length : \", len(count))\n",
    "    #print()\n",
    "    \n",
    "    count2 = {key: value for key, value in count.items() if value >= minsup*315}\n",
    "    #print(\"L1 Items : \", count2)\n",
    "    #print(\"L1 Length : \", len(count2))\n",
    "    #print()\n",
    "\n",
    "    return count2, data"
   ]
  },
  {
   "cell_type": "code",
   "execution_count": 48,
   "metadata": {},
   "outputs": [],
   "source": [
    "def Ck_table(prvList, one_Or_More, data):\n",
    "    Ck = []\n",
    "\n",
    "    if one_Or_More == 1:\n",
    "        one_Or_More = 0\n",
    "        for item1 in prvList:\n",
    "            for item2 in prvList:\n",
    "                if item2 > item1:\n",
    "                    Ck.append((item1, item2))\n",
    "        #print(\"C2: \", Ck)\n",
    "        #print(\"length : \", len(Ck))\n",
    "        #print()\n",
    "\n",
    "    else:\n",
    "        for item in prvList:\n",
    "            k = len(item)\n",
    "        for item1 in prvList:\n",
    "            for item2 in prvList:\n",
    "                if (item1[:-1] == item2[:-1]) and (item1[-1] != item2[-1]):\n",
    "                    if item1[-1] > item2[-1]:\n",
    "                        Ck.append(item2 + (item1[-1],))\n",
    "                    else:\n",
    "                        Ck.append(item1 + (item2[-1],))\n",
    "        #print(\"C\" + str(k+1) + \": \", Ck[1:3])\n",
    "        #print(\"Length : \", len(Ck))\n",
    "        #print()\n",
    "    frqitem =Lk_table(set(Ck), data)\n",
    "    return frqitem, one_Or_More\n"
   ]
  },
  {
   "cell_type": "code",
   "execution_count": 49,
   "metadata": {},
   "outputs": [],
   "source": [
    "def Lk_table(Ck, data):\n",
    "    count = {}\n",
    "    for itemset in Ck:\n",
    "        for transaction in data:\n",
    "            if all(e in transaction for e in itemset):#here i check if the itemset in data table like [A,B] IN [A,C,B,D] IF TRUE GO TO NEXT \n",
    "                if itemset not in count:\n",
    "                    count[itemset] = 1\n",
    "                else:\n",
    "                    count[itemset] = count[itemset] + 1\n",
    "\n",
    "    #print(\"Ct Length : \", len(count))\n",
    "    #print()\n",
    "\n",
    "    count2 ={key: value for key, value in count.items() if value >= minsup*315}\n",
    "    #print(\"L Length : \", len(count2))\n",
    "    #print()\n",
    "    return count2"
   ]
  },
  {
   "cell_type": "code",
   "execution_count": 50,
   "metadata": {},
   "outputs": [],
   "source": [
    "def MIN_CONFIDENCE(fitems):\n",
    "    counter = 0\n",
    "    for itemset in fitems.keys():\n",
    "        if isinstance(itemset, str):\n",
    "            continue\n",
    "        length = len(itemset)\n",
    "        # the confidance will equal union_support / left count \n",
    "        union_support = fitems[tuple(itemset)]\n",
    "        for i in range(1, length):\n",
    "\n",
    "            lefts = map(list, itertools.combinations(itemset, i)) # i will define the size of slice every loop \n",
    "            for left in lefts:\n",
    "                if len(left) == 1:\n",
    "                    if ''.join(left) in fitems:\n",
    "                        leftcount = fitems[''.join(left)]\n",
    "                        conf = union_support / leftcount\n",
    "                else:\n",
    "                    if tuple(left) in fitems:\n",
    "                        leftcount = fitems[tuple(left)]\n",
    "                        conf = union_support / leftcount\n",
    "                if conf >= minconf:\n",
    "                    right = list(itemset[:])\n",
    "                    print(str(left) + ' -> ' + str(right) + ' (' + str(conf) + ')')\n",
    "                    counter = counter + 1\n",
    "    print(counter, \"rules generated\")"
   ]
  },
  {
   "cell_type": "code",
   "execution_count": 51,
   "metadata": {},
   "outputs": [],
   "source": [
    "def apriori():\n",
    "    f1 = \"FILE1.txt\"\n",
    "    L, data = List1()\n",
    "    one_Or_More = 1\n",
    "    FreqItems = dict(L)  # IMAKE DICTONARY TO EASY ACCESS [KEY,VALUE] PAIR\n",
    "    while(len(L) != 0):\n",
    "        fo = open(f1, \"a+\")\n",
    "        for k, v in L.items():\n",
    "            fo.write(str(k) + ' >>> ' + str(v) + '\\n\\n')\n",
    "        fo.close()\n",
    "        L, one_Or_More = Ck_table(L, one_Or_More, data)\n",
    "        FreqItems.update(L)\n",
    "    MIN_CONFIDENCE(FreqItems)"
   ]
  },
  {
   "cell_type": "code",
   "execution_count": 52,
   "metadata": {},
   "outputs": [
    {
     "name": "stdout",
     "output_type": "stream",
     "text": [
      "['Meat'] -> ['Meat', 'Wine'] (0.5266666666666666)\n",
      "['Wine'] -> ['Meat', 'Wine'] (0.572463768115942)\n",
      "['Eggs'] -> ['Eggs', 'Meat'] (0.6086956521739131)\n",
      "['Meat'] -> ['Eggs', 'Meat'] (0.56)\n",
      "['Cheese'] -> ['Cheese', 'Milk'] (0.6075949367088608)\n",
      "['Milk'] -> ['Cheese', 'Milk'] (0.6075949367088608)\n",
      "['Pencil'] -> ['Bread', 'Pencil'] (0.5526315789473685)\n",
      "['Bagel'] -> ['Bagel', 'Milk'] (0.5298507462686567)\n",
      "['Diaper'] -> ['Bread', 'Diaper'] (0.5703125)\n",
      "['Eggs'] -> ['Eggs', 'Wine'] (0.5507246376811594)\n",
      "['Wine'] -> ['Eggs', 'Wine'] (0.5507246376811594)\n",
      "['Wine'] -> ['Bread', 'Wine'] (0.5579710144927537)\n",
      "['Meat'] -> ['Meat', 'Milk'] (0.5133333333333333)\n",
      "['Pencil'] -> ['Pencil', 'Wine'] (0.5526315789473685)\n",
      "['Cheese'] -> ['Cheese', 'Eggs'] (0.5949367088607594)\n",
      "['Eggs'] -> ['Cheese', 'Eggs'] (0.6811594202898551)\n",
      "['Cheese'] -> ['Cheese', 'Meat'] (0.6455696202531646)\n",
      "['Meat'] -> ['Cheese', 'Meat'] (0.68)\n",
      "['Bagel'] -> ['Bagel', 'Bread'] (0.6567164179104478)\n",
      "['Bread'] -> ['Bagel', 'Bread'] (0.5534591194968553)\n",
      "['Pencil'] -> ['Cheese', 'Pencil'] (0.5526315789473685)\n",
      "['Wine'] -> ['Milk', 'Wine'] (0.5)\n",
      "['Diaper'] -> ['Diaper', 'Wine'] (0.578125)\n",
      "['Wine'] -> ['Diaper', 'Wine'] (0.5362318840579711)\n",
      "['Eggs'] -> ['Eggs', 'Milk'] (0.5579710144927537)\n",
      "['Bread'] -> ['Bread', 'Milk'] (0.5534591194968553)\n",
      "['Milk'] -> ['Bread', 'Milk'] (0.5569620253164557)\n",
      "['Cheese'] -> ['Cheese', 'Wine'] (0.5379746835443038)\n",
      "['Wine'] -> ['Cheese', 'Wine'] (0.6159420289855072)\n",
      "['Cheese', 'Milk'] -> ['Cheese', 'Milk', 'Wine'] (0.53125)\n",
      "['Cheese', 'Wine'] -> ['Cheese', 'Milk', 'Wine'] (0.6)\n",
      "['Milk', 'Wine'] -> ['Cheese', 'Milk', 'Wine'] (0.7391304347826086)\n",
      "['Eggs', 'Meat'] -> ['Eggs', 'Meat', 'Milk'] (0.6666666666666666)\n",
      "['Eggs', 'Milk'] -> ['Eggs', 'Meat', 'Milk'] (0.7272727272727273)\n",
      "['Meat', 'Milk'] -> ['Eggs', 'Meat', 'Milk'] (0.7272727272727273)\n",
      "['Cheese', 'Eggs'] -> ['Cheese', 'Eggs', 'Milk'] (0.6595744680851063)\n",
      "['Cheese', 'Milk'] -> ['Cheese', 'Eggs', 'Milk'] (0.6458333333333334)\n",
      "['Eggs', 'Milk'] -> ['Cheese', 'Eggs', 'Milk'] (0.8051948051948052)\n",
      "['Cheese', 'Eggs'] -> ['Cheese', 'Eggs', 'Meat'] (0.723404255319149)\n",
      "['Cheese', 'Meat'] -> ['Cheese', 'Eggs', 'Meat'] (0.6666666666666666)\n",
      "['Eggs', 'Meat'] -> ['Cheese', 'Eggs', 'Meat'] (0.8095238095238095)\n",
      "['Cheese', 'Eggs'] -> ['Cheese', 'Eggs', 'Wine'] (0.5531914893617021)\n",
      "['Cheese', 'Wine'] -> ['Cheese', 'Eggs', 'Wine'] (0.611764705882353)\n",
      "['Eggs', 'Wine'] -> ['Cheese', 'Eggs', 'Wine'] (0.6842105263157895)\n",
      "['Cheese', 'Meat'] -> ['Cheese', 'Meat', 'Milk'] (0.6274509803921569)\n",
      "['Cheese', 'Milk'] -> ['Cheese', 'Meat', 'Milk'] (0.6666666666666666)\n",
      "['Meat', 'Milk'] -> ['Cheese', 'Meat', 'Milk'] (0.8311688311688312)\n",
      "['Bagel', 'Bread'] -> ['Bagel', 'Bread', 'Milk'] (0.6136363636363636)\n",
      "['Bagel', 'Milk'] -> ['Bagel', 'Bread', 'Milk'] (0.7605633802816901)\n",
      "['Bread', 'Milk'] -> ['Bagel', 'Bread', 'Milk'] (0.6136363636363636)\n",
      "['Cheese', 'Meat'] -> ['Cheese', 'Meat', 'Wine'] (0.5196078431372549)\n",
      "['Cheese', 'Wine'] -> ['Cheese', 'Meat', 'Wine'] (0.6235294117647059)\n",
      "['Meat', 'Wine'] -> ['Cheese', 'Meat', 'Wine'] (0.6708860759493671)\n",
      "['Cheese', 'Eggs'] -> ['Cheese', 'Eggs', 'Meat', 'Milk'] (0.5106382978723404)\n",
      "['Cheese', 'Milk'] -> ['Cheese', 'Eggs', 'Meat', 'Milk'] (0.5)\n",
      "['Eggs', 'Meat'] -> ['Cheese', 'Eggs', 'Meat', 'Milk'] (0.5714285714285714)\n",
      "['Eggs', 'Milk'] -> ['Cheese', 'Eggs', 'Meat', 'Milk'] (0.6233766233766234)\n",
      "['Meat', 'Milk'] -> ['Cheese', 'Eggs', 'Meat', 'Milk'] (0.6233766233766234)\n",
      "['Cheese', 'Eggs', 'Meat'] -> ['Cheese', 'Eggs', 'Meat', 'Milk'] (0.7058823529411765)\n",
      "['Cheese', 'Eggs', 'Milk'] -> ['Cheese', 'Eggs', 'Meat', 'Milk'] (0.7741935483870968)\n",
      "['Cheese', 'Meat', 'Milk'] -> ['Cheese', 'Eggs', 'Meat', 'Milk'] (0.75)\n",
      "['Eggs', 'Meat', 'Milk'] -> ['Cheese', 'Eggs', 'Meat', 'Milk'] (0.8571428571428571)\n",
      "62 rules generated\n"
     ]
    }
   ],
   "source": [
    "if __name__ == '__main__':\n",
    "    apriori()"
   ]
  },
  {
   "cell_type": "code",
   "execution_count": null,
   "metadata": {},
   "outputs": [],
   "source": []
  },
  {
   "cell_type": "code",
   "execution_count": null,
   "metadata": {},
   "outputs": [],
   "source": []
  }
 ],
 "metadata": {
  "kernelspec": {
   "display_name": "Python 3",
   "language": "python",
   "name": "python3"
  },
  "language_info": {
   "codemirror_mode": {
    "name": "ipython",
    "version": 3
   },
   "file_extension": ".py",
   "mimetype": "text/x-python",
   "name": "python",
   "nbconvert_exporter": "python",
   "pygments_lexer": "ipython3",
   "version": "3.8.5"
  }
 },
 "nbformat": 4,
 "nbformat_minor": 4
}
